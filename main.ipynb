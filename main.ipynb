{
 "cells": [
  {
   "cell_type": "code",
   "execution_count": 13,
   "outputs": [
    {
     "data": {
      "text/plain": "101318454131089"
     },
     "execution_count": 13,
     "metadata": {},
     "output_type": "execute_result"
    }
   ],
   "source": [
    "from uuid import getnode as get_mac\n",
    "\n",
    "import psutil\n",
    "\n",
    "mac = get_mac()\n",
    "mac"
   ],
   "metadata": {
    "collapsed": false,
    "pycharm": {
     "name": "#%%\n"
    }
   }
  },
  {
   "cell_type": "code",
   "execution_count": null,
   "outputs": [],
   "source": [],
   "metadata": {
    "collapsed": false,
    "pycharm": {
     "name": "#%%\n"
    }
   }
  },
  {
   "cell_type": "code",
   "execution_count": 29,
   "outputs": [
    {
     "name": "stdout",
     "output_type": "stream",
     "text": [
      "2801.0\n"
     ]
    }
   ],
   "source": [
    "# let's print CPU information\n",
    "import psutil\n",
    "\n",
    "cpufreq = psutil.cpu_freq()\n",
    "\n",
    "\n",
    "Max_cpu_freq = cpufreq.max\n",
    "print(Max_cpu_freq)\n"
   ],
   "metadata": {
    "collapsed": false,
    "pycharm": {
     "name": "#%%\n"
    }
   }
  },
  {
   "cell_type": "code",
   "execution_count": 31,
   "outputs": [
    {
     "name": "stdout",
     "output_type": "stream",
     "text": [
      "2801\n"
     ]
    }
   ],
   "source": [
    "new = str(Max_cpu_freq).split('.')[0]\n",
    "print(new)"
   ],
   "metadata": {
    "collapsed": false,
    "pycharm": {
     "name": "#%%\n"
    }
   }
  },
  {
   "cell_type": "code",
   "execution_count": 1,
   "outputs": [
    {
     "name": "stdout",
     "output_type": "stream",
     "text": [
      "======================================== GPU Details ========================================\n",
      "['GPU-1b98f52a-a0cf-b0c6-2b25-b98b83888896']\n"
     ]
    }
   ],
   "source": [
    "import GPUtil\n",
    "from tabulate import tabulate\n",
    "# let's print CPU information\n",
    "print(\"=\"*40, \"GPU Details\", \"=\"*40)\n",
    "gpus = GPUtil.getGPUs()\n",
    "list_gpus = []\n",
    "for gpu in gpus:\n",
    "    gpu_uuid = gpu.uuid\n",
    "    list_gpus.append((gpu_uuid\n",
    "    ))\n",
    "\n",
    "print(list_gpus)\n",
    "\n"
   ],
   "metadata": {
    "collapsed": false,
    "pycharm": {
     "name": "#%%\n"
    }
   }
  },
  {
   "cell_type": "code",
   "execution_count": 47,
   "outputs": [],
   "source": [
    "char = [\"'\", \"]\"]"
   ],
   "metadata": {
    "collapsed": false,
    "pycharm": {
     "name": "#%%\n"
    }
   }
  },
  {
   "cell_type": "code",
   "execution_count": 2,
   "outputs": [
    {
     "name": "stdout",
     "output_type": "stream",
     "text": [
      "2b25\n"
     ]
    }
   ],
   "source": [
    "new_gpu_id = str(list_gpus).split('-')[-2]\n",
    "print(new_gpu_id)"
   ],
   "metadata": {
    "collapsed": false,
    "pycharm": {
     "name": "#%%\n"
    }
   }
  },
  {
   "cell_type": "code",
   "execution_count": 4,
   "outputs": [
    {
     "data": {
      "text/plain": "11045"
     },
     "execution_count": 4,
     "metadata": {},
     "output_type": "execute_result"
    }
   ],
   "source": [
    "b = int(new_gpu_id,16)\n",
    "b"
   ],
   "metadata": {
    "collapsed": false,
    "pycharm": {
     "name": "#%%\n"
    }
   }
  },
  {
   "cell_type": "code",
   "execution_count": 5,
   "outputs": [],
   "source": [
    "def HexToBin(h):\n",
    "    return bin(int(h, 16))\n",
    "\n",
    "def create():\n",
    "    # get cpu id\n",
    "    cpufreq = psutil.cpu_freq()\n",
    "    cpu_id = cpufreq.max\n",
    "    # get mac id\n",
    "    mac = get_mac()\n",
    "    # get gpu id\n",
    "    gpus = GPUtil.getGPUs()\n",
    "    list_gpus = []\n",
    "    for gpu in gpus:\n",
    "        gpu_uuid = gpu.uuid\n",
    "        list_gpus.append((gpu_uuid))\n",
    "        new_gpu_id = str(list_gpus).split('-')[-2]\n",
    "        gpu_id = int(new_gpu_id, new_gpu_id)\n",
    "    key = str(cpu_id) + str(mac) + str(gpu_id)\n",
    "    return key\n",
    "\n",
    "\n",
    "\n"
   ],
   "metadata": {
    "collapsed": false,
    "pycharm": {
     "name": "#%%\n"
    }
   }
  },
  {
   "cell_type": "code",
   "execution_count": 6,
   "outputs": [
    {
     "ename": "NameError",
     "evalue": "name 'psutil' is not defined",
     "output_type": "error",
     "traceback": [
      "\u001B[1;31m---------------------------------------------------------------------------\u001B[0m",
      "\u001B[1;31mNameError\u001B[0m                                 Traceback (most recent call last)",
      "Cell \u001B[1;32mIn[6], line 1\u001B[0m\n\u001B[1;32m----> 1\u001B[0m key \u001B[38;5;241m=\u001B[39m \u001B[43mcreate\u001B[49m\u001B[43m(\u001B[49m\u001B[43m)\u001B[49m\n\u001B[0;32m      2\u001B[0m \u001B[38;5;28mprint\u001B[39m(key)\n",
      "Cell \u001B[1;32mIn[5], line 6\u001B[0m, in \u001B[0;36mcreate\u001B[1;34m()\u001B[0m\n\u001B[0;32m      4\u001B[0m \u001B[38;5;28;01mdef\u001B[39;00m \u001B[38;5;21mcreate\u001B[39m():\n\u001B[0;32m      5\u001B[0m     \u001B[38;5;66;03m# get cpu id\u001B[39;00m\n\u001B[1;32m----> 6\u001B[0m     cpufreq \u001B[38;5;241m=\u001B[39m \u001B[43mpsutil\u001B[49m\u001B[38;5;241m.\u001B[39mcpu_freq()\n\u001B[0;32m      7\u001B[0m     cpu_id \u001B[38;5;241m=\u001B[39m cpufreq\u001B[38;5;241m.\u001B[39mmax\n\u001B[0;32m      8\u001B[0m     \u001B[38;5;66;03m# get mac id\u001B[39;00m\n",
      "\u001B[1;31mNameError\u001B[0m: name 'psutil' is not defined"
     ]
    }
   ],
   "source": [
    "key = create()\n",
    "print(key)"
   ],
   "metadata": {
    "collapsed": false,
    "pycharm": {
     "name": "#%%\n"
    }
   }
  },
  {
   "cell_type": "code",
   "execution_count": null,
   "outputs": [],
   "source": [],
   "metadata": {
    "collapsed": false,
    "pycharm": {
     "name": "#%%\n"
    }
   }
  }
 ],
 "metadata": {
  "kernelspec": {
   "display_name": "Python 3",
   "language": "python",
   "name": "python3"
  },
  "language_info": {
   "codemirror_mode": {
    "name": "ipython",
    "version": 2
   },
   "file_extension": ".py",
   "mimetype": "text/x-python",
   "name": "python",
   "nbconvert_exporter": "python",
   "pygments_lexer": "ipython2",
   "version": "2.7.6"
  }
 },
 "nbformat": 4,
 "nbformat_minor": 0
}